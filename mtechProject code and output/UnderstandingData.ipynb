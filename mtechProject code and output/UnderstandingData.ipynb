{
 "cells": [
  {
   "cell_type": "code",
   "execution_count": 1,
   "metadata": {},
   "outputs": [],
   "source": [
    "import pandas as pd\n",
    "file1 = pd.read_csv('Data/text_emotion.csv')"
   ]
  },
  {
   "cell_type": "code",
   "execution_count": 2,
   "metadata": {},
   "outputs": [
    {
     "data": {
      "text/plain": [
       "(40000, 2)"
      ]
     },
     "execution_count": 2,
     "metadata": {},
     "output_type": "execute_result"
    }
   ],
   "source": [
    "file1.shape"
   ]
  },
  {
   "cell_type": "code",
   "execution_count": 3,
   "metadata": {},
   "outputs": [],
   "source": [
    "textList = file1['label']\n"
   ]
  },
  {
   "cell_type": "code",
   "execution_count": 4,
   "metadata": {},
   "outputs": [
    {
     "data": {
      "text/plain": [
       "['empty',\n",
       " 'sadness',\n",
       " 'enthusiasm',\n",
       " 'neutral',\n",
       " 'worry',\n",
       " 'surprise',\n",
       " 'love',\n",
       " 'fun',\n",
       " 'hate',\n",
       " 'happiness',\n",
       " 'boredom',\n",
       " 'relief',\n",
       " 'anger']"
      ]
     },
     "execution_count": 4,
     "metadata": {},
     "output_type": "execute_result"
    }
   ],
   "source": [
    "uniqueWord = []\n",
    "for word in textList:\n",
    "    if word not in uniqueWord:\n",
    "        uniqueWord.append(word)\n",
    "        \n",
    "uniqueWord"
   ]
  },
  {
   "cell_type": "code",
   "execution_count": 5,
   "metadata": {},
   "outputs": [
    {
     "data": {
      "text/plain": [
       "[827, 5165, 759, 8638, 8459, 2187, 3842, 1776, 1323, 5209, 179, 1526, 110]"
      ]
     },
     "execution_count": 5,
     "metadata": {},
     "output_type": "execute_result"
    }
   ],
   "source": [
    "counter = []\n",
    "for word in uniqueWord:\n",
    "    count = 0\n",
    "    for word1 in textList:\n",
    "        if word == word1:\n",
    "            count=count+1\n",
    "    counter.append(count)\n",
    "\n",
    "counter"
   ]
  },
  {
   "cell_type": "code",
   "execution_count": 6,
   "metadata": {},
   "outputs": [
    {
     "name": "stdout",
     "output_type": "stream",
     "text": [
      "label count percentage\n",
      "empty 827 2.0675\n",
      "sadness 5165 12.9125\n",
      "enthusiasm 759 1.8975\n",
      "neutral 8638 21.595\n",
      "worry 8459 21.1475\n",
      "surprise 2187 5.4675\n",
      "love 3842 9.605\n",
      "fun 1776 4.44\n",
      "hate 1323 3.3075\n",
      "happiness 5209 13.0225\n",
      "boredom 179 0.4475\n",
      "relief 1526 3.8150000000000004\n",
      "anger 110 0.27499999999999997\n"
     ]
    }
   ],
   "source": [
    "count=0\n",
    "print(\"label count percentage\")\n",
    "for word in uniqueWord:\n",
    "    per = counter[count]\n",
    "    per = per/40000 * 100\n",
    "    print(word,counter[count],per)\n",
    "    count = count + 1    "
   ]
  },
  {
   "cell_type": "code",
   "execution_count": 8,
   "metadata": {},
   "outputs": [
    {
     "data": {
      "image/png": "[encoded data removed]",
      "text/plain": [
       "<Figure size 864x576 with 1 Axes>"
      ]
     },
     "metadata": {},
     "output_type": "display_data"
    }
   ],
   "source": [
    "import numpy as np\n",
    "import pandas as pd\n",
    "import matplotlib.pyplot as plt\n",
    "\n",
    "# Bring some raw data.\n",
    "frequencies = counter\n",
    "\n",
    "# In my original code I create a series and run on that, \n",
    "# so for consistency I create a series from the list.\n",
    "freq_series = pd.Series.from_array(frequencies)\n",
    "\n",
    "x_labels = uniqueWord\n",
    "\n",
    "# Plot the figure.\n",
    "plt.figure(figsize=(12, 8))\n",
    "ax = freq_series.plot(kind='bar')\n",
    "ax.set_title('Dataset File 1')\n",
    "ax.set_xlabel('Emotion')\n",
    "ax.set_ylabel('No. of Examples')\n",
    "ax.set_xticklabels(x_labels)\n",
    "\n",
    "rects = ax.patches\n",
    "\n",
    "# For each bar: Place a label\n",
    "for rect in rects:\n",
    "    # Get X and Y placement of label from rect.\n",
    "    y_value = rect.get_height()\n",
    "    x_value = rect.get_x() + rect.get_width() / 2\n",
    "\n",
    "    # Number of points between bar and label. Change to your liking.\n",
    "    space = 5\n",
    "    # Vertical alignment for positive values\n",
    "    va = 'bottom'\n",
    "\n",
    "    # If value of bar is negative: Place label below bar\n",
    "    if y_value < 0:\n",
    "        # Invert space to place label below\n",
    "        space *= -1\n",
    "        # Vertically align label at top\n",
    "        va = 'top'\n",
    "\n",
    "    # Use Y value as label and format number with one decimal place\n",
    "    label = \"{:}\".format(y_value)\n",
    "\n",
    "    # Create annotation\n",
    "    plt.annotate(\n",
    "        label,                      # Use `label` as label\n",
    "        (x_value, y_value),         # Place label at end of the bar\n",
    "        xytext=(0, space),          # Vertically shift label by `space`\n",
    "        textcoords=\"offset points\", # Interpret `xytext` as offset in points\n",
    "        ha='center',                # Horizontally center label\n",
    "        va=va)                      # Vertically align label differently for\n",
    "                                    # positive and negative values.\n",
    "\n",
    "plt.savefig(\"DataVisualization/image.png\")"
   ]
  },
  {
   "cell_type": "code",
   "execution_count": 9,
   "metadata": {},
   "outputs": [],
   "source": [
    "import pandas as pd\n",
    "file = pd.read_csv('Data/iseardataset.csv')"
   ]
  },
  {
   "cell_type": "code",
   "execution_count": 10,
   "metadata": {},
   "outputs": [
    {
     "data": {
      "text/plain": [
       "(7516, 3)"
      ]
     },
     "execution_count": 10,
     "metadata": {},
     "output_type": "execute_result"
    }
   ],
   "source": [
    "file.shape"
   ]
  },
  {
   "cell_type": "code",
   "execution_count": 11,
   "metadata": {},
   "outputs": [],
   "source": [
    "textList1 = file['label']"
   ]
  },
  {
   "cell_type": "code",
   "execution_count": 12,
   "metadata": {},
   "outputs": [
    {
     "data": {
      "text/plain": [
       "['joy', 'fear', 'anger', 'sadness', 'disgust', 'shame', 'guilt']"
      ]
     },
     "execution_count": 12,
     "metadata": {},
     "output_type": "execute_result"
    }
   ],
   "source": [
    "uniqueWord1 = []\n",
    "for word in textList1:\n",
    "    if word not in uniqueWord1:\n",
    "        uniqueWord1.append(word)\n",
    "        \n",
    "uniqueWord1"
   ]
  },
  {
   "cell_type": "code",
   "execution_count": 13,
   "metadata": {},
   "outputs": [
    {
     "data": {
      "text/plain": [
       "[1092, 1076, 1079, 1082, 1066, 1071, 1050]"
      ]
     },
     "execution_count": 13,
     "metadata": {},
     "output_type": "execute_result"
    }
   ],
   "source": [
    "counter1 = []\n",
    "for word in uniqueWord1:\n",
    "    count = 0\n",
    "    for word1 in textList1:\n",
    "        if word == word1:\n",
    "            count=count+1\n",
    "    counter1.append(count)\n",
    "\n",
    "counter1"
   ]
  },
  {
   "cell_type": "code",
   "execution_count": 14,
   "metadata": {},
   "outputs": [
    {
     "name": "stdout",
     "output_type": "stream",
     "text": [
      "label count percentage\n",
      "joy 1092 2.73\n",
      "fear 1076 2.69\n",
      "anger 1079 2.6975\n",
      "sadness 1082 2.705\n",
      "disgust 1066 2.665\n",
      "shame 1071 2.6775\n",
      "guilt 1050 2.625\n"
     ]
    }
   ],
   "source": [
    "count1=0\n",
    "print(\"label count percentage\")\n",
    "for word in uniqueWord1:\n",
    "    per = counter1[count1]\n",
    "    per = per/40000 * 100\n",
    "    print(word,counter1[count1],per)\n",
    "    count1 = count1 + 1 "
   ]
  },
  {
   "cell_type": "code",
   "execution_count": 15,
   "metadata": {},
   "outputs": [
    {
     "data": {
      "image/png": "[encoded data removed]",
      "text/plain": [
       "<Figure size 864x576 with 1 Axes>"
      ]
     },
     "metadata": {},
     "output_type": "display_data"
    }
   ],
   "source": [
    "# Bring some raw data.\n",
    "frequencies = counter1\n",
    "\n",
    "# In my original code I create a series and run on that, \n",
    "# so for consistency I create a series from the list.\n",
    "freq_series = pd.Series.from_array(frequencies)\n",
    "\n",
    "x_labels = uniqueWord1\n",
    "\n",
    "# Plot the figure.\n",
    "plt.figure(figsize=(12, 8))\n",
    "ax = freq_series.plot(kind='bar')\n",
    "ax.set_title('Dataset File 2')\n",
    "ax.set_xlabel('Emotion')\n",
    "ax.set_ylabel('No. of Examples')\n",
    "ax.set_xticklabels(x_labels)\n",
    "\n",
    "rects = ax.patches\n",
    "\n",
    "# For each bar: Place a label\n",
    "for rect in rects:\n",
    "    # Get X and Y placement of label from rect.\n",
    "    y_value = rect.get_height()\n",
    "    x_value = rect.get_x() + rect.get_width() / 2\n",
    "\n",
    "    # Number of points between bar and label. Change to your liking.\n",
    "    space = 5\n",
    "    # Vertical alignment for positive values\n",
    "    va = 'bottom'\n",
    "\n",
    "    # If value of bar is negative: Place label below bar\n",
    "    if y_value < 0:\n",
    "        # Invert space to place label below\n",
    "        space *= -1\n",
    "        # Vertically align label at top\n",
    "        va = 'top'\n",
    "\n",
    "    # Use Y value as label and format number with one decimal place\n",
    "    label = \"{:}\".format(y_value)\n",
    "\n",
    "    # Create annotation\n",
    "    plt.annotate(\n",
    "        label,                      # Use `label` as label\n",
    "        (x_value, y_value),         # Place label at end of the bar\n",
    "        xytext=(0, space),          # Vertically shift label by `space`\n",
    "        textcoords=\"offset points\", # Interpret `xytext` as offset in points\n",
    "        ha='center',                # Horizontally center label\n",
    "        va=va)                      # Vertically align label differently for\n",
    "                                    # positive and negative values.\n",
    "\n",
    "plt.savefig(\"DataVisualization/image1.png\")"
   ]
  },
  {
   "cell_type": "code",
   "execution_count": 16,
   "metadata": {},
   "outputs": [],
   "source": [
    "dataLabel1 = []\n",
    "dataLabel1 = textList.replace(\"relief\",\"happiness\")\n",
    "dataLabel1 = dataLabel1.replace(\"fun\",\"happiness\")\n",
    "dataLabel1 = dataLabel1.replace(\"love\",\"happiness\")\n",
    "dataLabel1 = dataLabel1.replace(\"enthusiasm\",\"happiness\")\n",
    "\n",
    "dataLabel1 = dataLabel1.replace(\"hate\",\"anger\")\n",
    "\n",
    "dataLabel1 = dataLabel1.replace(\"worry\",\"fear\")\n",
    "\n",
    "dataLabel1 = dataLabel1.replace(\"empty\",\"sadness\")\n",
    "dataLabel1 = dataLabel1.replace(\"boredom\",\"sadness\")"
   ]
  },
  {
   "cell_type": "code",
   "execution_count": 17,
   "metadata": {},
   "outputs": [
    {
     "data": {
      "text/plain": [
       "['sadness', 'happiness', 'neutral', 'fear', 'surprise', 'anger']"
      ]
     },
     "execution_count": 17,
     "metadata": {},
     "output_type": "execute_result"
    }
   ],
   "source": [
    "uniqueWord1 = []\n",
    "for word in dataLabel1:\n",
    "    if word not in uniqueWord1:\n",
    "        uniqueWord1.append(word)\n",
    "        \n",
    "uniqueWord1"
   ]
  },
  {
   "cell_type": "code",
   "execution_count": 18,
   "metadata": {},
   "outputs": [
    {
     "data": {
      "text/plain": [
       "[6171, 13112, 8638, 8459, 2187, 1433]"
      ]
     },
     "execution_count": 18,
     "metadata": {},
     "output_type": "execute_result"
    }
   ],
   "source": [
    "counter1 = []\n",
    "for word in uniqueWord1:\n",
    "    count = 0\n",
    "    for word1 in dataLabel1:\n",
    "        if word == word1:\n",
    "            count=count+1\n",
    "    counter1.append(count)\n",
    "\n",
    "counter1"
   ]
  },
  {
   "cell_type": "code",
   "execution_count": 19,
   "metadata": {},
   "outputs": [
    {
     "name": "stdout",
     "output_type": "stream",
     "text": [
      "label count percentage\n",
      "sadness 6171 15.4275\n",
      "happiness 13112 32.78\n",
      "neutral 8638 21.595\n",
      "fear 8459 21.1475\n",
      "surprise 2187 5.4675\n",
      "anger 1433 3.5825000000000005\n"
     ]
    }
   ],
   "source": [
    "count1=0\n",
    "print(\"label count percentage\")\n",
    "for word in uniqueWord1:\n",
    "    per = counter1[count1]\n",
    "    per = per/40000 * 100\n",
    "    print(word,counter1[count1],per)\n",
    "    count1 = count1 + 1 "
   ]
  },
  {
   "cell_type": "code",
   "execution_count": 20,
   "metadata": {},
   "outputs": [
    {
     "data": {
      "image/png": "[encoded data removed]",
      "text/plain": [
       "<Figure size 864x576 with 1 Axes>"
      ]
     },
     "metadata": {},
     "output_type": "display_data"
    }
   ],
   "source": [
    "# Bring some raw data.\n",
    "frequencies = counter1\n",
    "\n",
    "# In my original code I create a series and run on that, \n",
    "# so for consistency I create a series from the list.\n",
    "freq_series = pd.Series.from_array(frequencies)\n",
    "\n",
    "x_labels = uniqueWord1\n",
    "\n",
    "# Plot the figure.\n",
    "plt.figure(figsize=(12, 8))\n",
    "ax = freq_series.plot(kind='bar')\n",
    "ax.set_title('Dataset File 1')\n",
    "ax.set_xlabel('Emotion')\n",
    "ax.set_ylabel('No. of Examples')\n",
    "ax.set_xticklabels(x_labels)\n",
    "\n",
    "rects = ax.patches\n",
    "\n",
    "# For each bar: Place a label\n",
    "for rect in rects:\n",
    "    # Get X and Y placement of label from rect.\n",
    "    y_value = rect.get_height()\n",
    "    x_value = rect.get_x() + rect.get_width() / 2\n",
    "\n",
    "    # Number of points between bar and label. Change to your liking.\n",
    "    space = 5\n",
    "    # Vertical alignment for positive values\n",
    "    va = 'bottom'\n",
    "\n",
    "    # If value of bar is negative: Place label below bar\n",
    "    if y_value < 0:\n",
    "        # Invert space to place label below\n",
    "        space *= -1\n",
    "        # Vertically align label at top\n",
    "        va = 'top'\n",
    "\n",
    "    # Use Y value as label and format number with one decimal place\n",
    "    label = \"{:}\".format(y_value)\n",
    "\n",
    "    # Create annotation\n",
    "    plt.annotate(\n",
    "        label,                      # Use `label` as label\n",
    "        (x_value, y_value),         # Place label at end of the bar\n",
    "        xytext=(0, space),          # Vertically shift label by `space`\n",
    "        textcoords=\"offset points\", # Interpret `xytext` as offset in points\n",
    "        ha='center',                # Horizontally center label\n",
    "        va=va)                      # Vertically align label differently for\n",
    "                                    # positive and negative values.\n",
    "\n",
    "plt.savefig(\"DataVisualization/image2.png\")"
   ]
  },
  {
   "cell_type": "code",
   "execution_count": 21,
   "metadata": {},
   "outputs": [],
   "source": [
    "dataLabel2 = []\n",
    "dataLabel2 = textList1.replace(\"shame\",\"fear\")\n",
    "dataLabel2 = dataLabel2.replace(\"guilt\",\"sadness\")\n",
    "dataLabel2 = dataLabel2.replace(\"joy\",\"happiness\")"
   ]
  },
  {
   "cell_type": "code",
   "execution_count": 22,
   "metadata": {},
   "outputs": [
    {
     "data": {
      "text/plain": [
       "['happiness', 'fear', 'anger', 'sadness', 'disgust']"
      ]
     },
     "execution_count": 22,
     "metadata": {},
     "output_type": "execute_result"
    }
   ],
   "source": [
    "uniqueWord2 = []\n",
    "for word in dataLabel2:\n",
    "    if word not in uniqueWord2:\n",
    "        uniqueWord2.append(word)\n",
    "        \n",
    "uniqueWord2"
   ]
  },
  {
   "cell_type": "code",
   "execution_count": 23,
   "metadata": {},
   "outputs": [
    {
     "data": {
      "text/plain": [
       "[1092, 2147, 1079, 2132, 1066]"
      ]
     },
     "execution_count": 23,
     "metadata": {},
     "output_type": "execute_result"
    }
   ],
   "source": [
    "counter2 = []\n",
    "for word in uniqueWord2:\n",
    "    count = 0\n",
    "    for word1 in dataLabel2:\n",
    "        if word == word1:\n",
    "            count=count+1\n",
    "    counter2.append(count)\n",
    "\n",
    "counter2"
   ]
  },
  {
   "cell_type": "code",
   "execution_count": 24,
   "metadata": {},
   "outputs": [
    {
     "name": "stdout",
     "output_type": "stream",
     "text": [
      "label count percentage\n",
      "happiness 1092 2.73\n",
      "fear 2147 5.3675\n",
      "anger 1079 2.6975\n",
      "sadness 2132 5.33\n",
      "disgust 1066 2.665\n"
     ]
    }
   ],
   "source": [
    "count1=0\n",
    "print(\"label count percentage\")\n",
    "for word in uniqueWord2:\n",
    "    per = counter2[count1]\n",
    "    per = per/40000 * 100\n",
    "    print(word,counter2[count1],per)\n",
    "    count1 = count1 + 1"
   ]
  },
  {
   "cell_type": "code",
   "execution_count": 25,
   "metadata": {},
   "outputs": [
    {
     "data": {
      "image/png": "[encoded data removed]",
      "text/plain": [
       "<Figure size 864x576 with 1 Axes>"
      ]
     },
     "metadata": {},
     "output_type": "display_data"
    }
   ],
   "source": [
    "# Bring some raw data.\n",
    "frequencies = counter2\n",
    "\n",
    "# In my original code I create a series and run on that, \n",
    "# so for consistency I create a series from the list.\n",
    "freq_series = pd.Series.from_array(frequencies)\n",
    "\n",
    "x_labels = uniqueWord2\n",
    "\n",
    "# Plot the figure.\n",
    "plt.figure(figsize=(12, 8))\n",
    "ax = freq_series.plot(kind='bar')\n",
    "ax.set_title('Dataset File 2')\n",
    "ax.set_xlabel('Emotion')\n",
    "ax.set_ylabel('No. of Examples')\n",
    "ax.set_xticklabels(x_labels)\n",
    "\n",
    "rects = ax.patches\n",
    "\n",
    "# For each bar: Place a label\n",
    "for rect in rects:\n",
    "    # Get X and Y placement of label from rect.\n",
    "    y_value = rect.get_height()\n",
    "    x_value = rect.get_x() + rect.get_width() / 2\n",
    "\n",
    "    # Number of points between bar and label. Change to your liking.\n",
    "    space = 5\n",
    "    # Vertical alignment for positive values\n",
    "    va = 'bottom'\n",
    "\n",
    "    # If value of bar is negative: Place label below bar\n",
    "    if y_value < 0:\n",
    "        # Invert space to place label below\n",
    "        space *= -1\n",
    "        # Vertically align label at top\n",
    "        va = 'top'\n",
    "\n",
    "    # Use Y value as label and format number with one decimal place\n",
    "    label = \"{:}\".format(y_value)\n",
    "\n",
    "    # Create annotation\n",
    "    plt.annotate(\n",
    "        label,                      # Use `label` as label\n",
    "        (x_value, y_value),         # Place label at end of the bar\n",
    "        xytext=(0, space),          # Vertically shift label by `space`\n",
    "        textcoords=\"offset points\", # Interpret `xytext` as offset in points\n",
    "        ha='center',                # Horizontally center label\n",
    "        va=va)                      # Vertically align label differently for\n",
    "                                    # positive and negative values.\n",
    "\n",
    "plt.savefig(\"DataVisualization/image3.png\")"
   ]
  },
  {
   "cell_type": "code",
   "execution_count": 26,
   "metadata": {},
   "outputs": [],
   "source": [
    "mergedLabel = []\n",
    "for p in dataLabel1:\n",
    "    mergedLabel.append(p)\n",
    "for p in dataLabel2:\n",
    "    mergedLabel.append(p)"
   ]
  },
  {
   "cell_type": "code",
   "execution_count": 27,
   "metadata": {},
   "outputs": [
    {
     "data": {
      "text/plain": [
       "47516"
      ]
     },
     "execution_count": 27,
     "metadata": {},
     "output_type": "execute_result"
    }
   ],
   "source": [
    "len(mergedLabel)"
   ]
  },
  {
   "cell_type": "code",
   "execution_count": 28,
   "metadata": {},
   "outputs": [
    {
     "data": {
      "text/plain": [
       "['sadness', 'happiness', 'neutral', 'fear', 'surprise', 'anger', 'disgust']"
      ]
     },
     "execution_count": 28,
     "metadata": {},
     "output_type": "execute_result"
    }
   ],
   "source": [
    "mergedUniqueWord = []\n",
    "for word in mergedLabel:\n",
    "    if word not in mergedUniqueWord:\n",
    "        mergedUniqueWord.append(word)\n",
    "        \n",
    "mergedUniqueWord"
   ]
  },
  {
   "cell_type": "code",
   "execution_count": 29,
   "metadata": {},
   "outputs": [
    {
     "data": {
      "text/plain": [
       "[8303, 14204, 8638, 10606, 2187, 2512, 1066]"
      ]
     },
     "execution_count": 29,
     "metadata": {},
     "output_type": "execute_result"
    }
   ],
   "source": [
    "counter = []\n",
    "for word in mergedUniqueWord:\n",
    "    count = 0\n",
    "    for word1 in mergedLabel:\n",
    "        if word == word1:\n",
    "            count=count+1\n",
    "    counter.append(count)\n",
    "\n",
    "counter"
   ]
  },
  {
   "cell_type": "code",
   "execution_count": 30,
   "metadata": {},
   "outputs": [
    {
     "name": "stdout",
     "output_type": "stream",
     "text": [
      "label count percentage\n",
      "sadness 8303 20.7575\n",
      "happiness 14204 35.510000000000005\n",
      "neutral 8638 21.595\n",
      "fear 10606 26.515\n",
      "surprise 2187 5.4675\n",
      "anger 2512 6.279999999999999\n",
      "disgust 1066 2.665\n"
     ]
    }
   ],
   "source": [
    "count1=0\n",
    "print(\"label count percentage\")\n",
    "for word in mergedUniqueWord:\n",
    "    per = counter[count1]\n",
    "    per = per/40000 * 100\n",
    "    print(word,counter[count1],per)\n",
    "    count1 = count1 + 1 "
   ]
  },
  {
   "cell_type": "code",
   "execution_count": 31,
   "metadata": {},
   "outputs": [
    {
     "data": {
      "image/png": "[encoded data removed]",
      "text/plain": [
       "<Figure size 864x576 with 1 Axes>"
      ]
     },
     "metadata": {},
     "output_type": "display_data"
    }
   ],
   "source": [
    "# Bring some raw data.\n",
    "frequencies = counter\n",
    "\n",
    "# In my original code I create a series and run on that, \n",
    "# so for consistency I create a series from the list.\n",
    "freq_series = pd.Series.from_array(frequencies)\n",
    "\n",
    "x_labels = mergedUniqueWord\n",
    "\n",
    "# Plot the figure.\n",
    "plt.figure(figsize=(12, 8))\n",
    "ax = freq_series.plot(kind='bar')\n",
    "ax.set_title('Merged Dataset')\n",
    "ax.set_xlabel('Emotion')\n",
    "ax.set_ylabel('No. of Examples')\n",
    "ax.set_xticklabels(x_labels)\n",
    "\n",
    "rects = ax.patches\n",
    "\n",
    "# For each bar: Place a label\n",
    "for rect in rects:\n",
    "    # Get X and Y placement of label from rect.\n",
    "    y_value = rect.get_height()\n",
    "    x_value = rect.get_x() + rect.get_width() / 2\n",
    "\n",
    "    # Number of points between bar and label. Change to your liking.\n",
    "    space = 5\n",
    "    # Vertical alignment for positive values\n",
    "    va = 'bottom'\n",
    "\n",
    "    # If value of bar is negative: Place label below bar\n",
    "    if y_value < 0:\n",
    "        # Invert space to place label below\n",
    "        space *= -1\n",
    "        # Vertically align label at top\n",
    "        va = 'top'\n",
    "\n",
    "    # Use Y value as label and format number with one decimal place\n",
    "    label = \"{:}\".format(y_value)\n",
    "\n",
    "    # Create annotation\n",
    "    plt.annotate(\n",
    "        label,                      # Use `label` as label\n",
    "        (x_value, y_value),         # Place label at end of the bar\n",
    "        xytext=(0, space),          # Vertically shift label by `space`\n",
    "        textcoords=\"offset points\", # Interpret `xytext` as offset in points\n",
    "        ha='center',                # Horizontally center label\n",
    "        va=va)                      # Vertically align label differently for\n",
    "                                    # positive and negative values.\n",
    "\n",
    "plt.savefig(\"DataVisualization/image4.png\")"
   ]
  },
  {
   "cell_type": "code",
   "execution_count": 32,
   "metadata": {},
   "outputs": [],
   "source": [
    "datatext1=[]\n",
    "datatext2=[]\n",
    "datatext1 = file1['text']\n",
    "datatext2 = file['text']"
   ]
  },
  {
   "cell_type": "code",
   "execution_count": 33,
   "metadata": {},
   "outputs": [],
   "source": [
    "mergedText = []\n",
    "for p in datatext1:\n",
    "    mergedText.append(p)\n",
    "for p in datatext2:\n",
    "    mergedText.append(p)"
   ]
  },
  {
   "cell_type": "code",
   "execution_count": 34,
   "metadata": {},
   "outputs": [
    {
     "data": {
      "text/plain": [
       "47516"
      ]
     },
     "execution_count": 34,
     "metadata": {},
     "output_type": "execute_result"
    }
   ],
   "source": [
    "len(mergedText)"
   ]
  },
  {
   "cell_type": "code",
   "execution_count": 35,
   "metadata": {},
   "outputs": [
    {
     "data": {
      "text/plain": [
       "47516"
      ]
     },
     "execution_count": 35,
     "metadata": {},
     "output_type": "execute_result"
    }
   ],
   "source": [
    "len(mergedLabel)"
   ]
  },
  {
   "cell_type": "code",
   "execution_count": 36,
   "metadata": {},
   "outputs": [],
   "source": [
    "import numpy as np\n",
    "np.save('Data/mergedLabel.npy',mergedLabel)\n",
    "np.save('Data/mergedText.npy',mergedText)"
   ]
  },
  {
   "cell_type": "code",
   "execution_count": 37,
   "metadata": {},
   "outputs": [],
   "source": [
    "label = np.load('Data/mergedLabel.npy')\n",
    "text = np.load('Data/mergedText.npy')"
   ]
  },
  {
   "cell_type": "code",
   "execution_count": 38,
   "metadata": {},
   "outputs": [
    {
     "name": "stdout",
     "output_type": "stream",
     "text": [
      "happiness\n",
      "@ddlovato i can`t wait to hear your new album. i`m sure will be amazing.please just replay to me  i love you so much!!!!\n"
     ]
    }
   ],
   "source": [
    "print(label[439])\n",
    "print(text[439])"
   ]
  },
  {
   "cell_type": "code",
   "execution_count": 39,
   "metadata": {},
   "outputs": [
    {
     "name": "stdout",
     "output_type": "stream",
     "text": [
      "fear\n",
      "Bed!!!!!... its time,..... hope i go to school tomorrow, all though i don't feel very well right now\n"
     ]
    }
   ],
   "source": [
    "print(label[45])\n",
    "print(text[45])"
   ]
  },
  {
   "cell_type": "code",
   "execution_count": 40,
   "metadata": {},
   "outputs": [
    {
     "name": "stdout",
     "output_type": "stream",
     "text": [
      "sadness\n",
      "tummy ache.\n"
     ]
    }
   ],
   "source": [
    "print(label[700])\n",
    "print(text[700])"
   ]
  },
  {
   "cell_type": "code",
   "execution_count": null,
   "metadata": {},
   "outputs": [],
   "source": []
  }
 ],
 "metadata": {
  "kernelspec": {
   "display_name": "Python 3",
   "language": "python",
   "name": "python3"
  },
  "language_info": {
   "codemirror_mode": {
    "name": "ipython",
    "version": 3
   },
   "file_extension": ".py",
   "mimetype": "text/x-python",
   "name": "python",
   "nbconvert_exporter": "python",
   "pygments_lexer": "ipython3",
   "version": "3.5.4"
  }
 },
 "nbformat": 4,
 "nbformat_minor": 2
}
