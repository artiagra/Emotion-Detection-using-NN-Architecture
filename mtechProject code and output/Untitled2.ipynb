{
 "cells": [
  {
   "cell_type": "code",
   "execution_count": 1,
   "metadata": {},
   "outputs": [
    {
     "name": "stdout",
     "output_type": "stream",
     "text": [
      "Successfully downloaded train-images-idx3-ubyte.gz 9912422 bytes.\n",
      "Extracting /tmp/data/train-images-idx3-ubyte.gz\n",
      "Successfully downloaded train-labels-idx1-ubyte.gz 28881 bytes.\n",
      "Extracting /tmp/data/train-labels-idx1-ubyte.gz\n",
      "Successfully downloaded t10k-images-idx3-ubyte.gz 1648877 bytes.\n",
      "Extracting /tmp/data/t10k-images-idx3-ubyte.gz\n",
      "Successfully downloaded t10k-labels-idx1-ubyte.gz 4542 bytes.\n",
      "Extracting /tmp/data/t10k-labels-idx1-ubyte.gz\n"
     ]
    }
   ],
   "source": [
    "from __future__ import print_function\n",
    "\n",
    "import tensorflow as tf\n",
    "from tensorflow.contrib import rnn\n",
    "import numpy as np\n",
    "\n",
    "# Import MNIST data\n",
    "from tensorflow.examples.tutorials.mnist import input_data\n",
    "mnist = input_data.read_data_sets(\"/tmp/data/\", one_hot=True)\n",
    "\n"
   ]
  },
  {
   "cell_type": "code",
   "execution_count": 2,
   "metadata": {},
   "outputs": [],
   "source": [
    "# Training Parameters\n",
    "learning_rate = 0.001\n",
    "training_steps = 10000\n",
    "batch_size = 128\n",
    "display_step = 200\n",
    "\n",
    "# Network Parameters\n",
    "num_input = 28 # MNIST data input (img shape: 28*28)\n",
    "timesteps = 28 # timesteps\n",
    "num_hidden = 128 # hidden layer num of features\n",
    "num_classes = 10 # MNIST total classes (0-9 digits)\n",
    "\n",
    "# tf Graph input\n",
    "X = tf.placeholder(\"float\", [None, timesteps, num_input])\n",
    "Y = tf.placeholder(\"float\", [None, num_classes])"
   ]
  },
  {
   "cell_type": "code",
   "execution_count": 3,
   "metadata": {},
   "outputs": [],
   "source": [
    "# Define weights\n",
    "weights = {\n",
    "    # Hidden layer weights => 2*n_hidden because of forward + backward cells\n",
    "    'out': tf.Variable(tf.random_normal([2*num_hidden, num_classes]))\n",
    "}\n",
    "biases = {\n",
    "    'out': tf.Variable(tf.random_normal([num_classes]))\n",
    "}"
   ]
  },
  {
   "cell_type": "code",
   "execution_count": 4,
   "metadata": {},
   "outputs": [],
   "source": [
    "def BiRNN(x, weights, biases):\n",
    "\n",
    "    # Prepare data shape to match `rnn` function requirements\n",
    "    # Current data input shape: (batch_size, timesteps, n_input)\n",
    "    # Required shape: 'timesteps' tensors list of shape (batch_size, num_input)\n",
    "\n",
    "    # Unstack to get a list of 'timesteps' tensors of shape (batch_size, num_input)\n",
    "    x = tf.unstack(x, timesteps, 1)\n",
    "\n",
    "    # Define lstm cells with tensorflow\n",
    "    # Forward direction cell\n",
    "    lstm_fw_cell = rnn.BasicLSTMCell(num_hidden, forget_bias=1.0)\n",
    "    # Backward direction cell\n",
    "    lstm_bw_cell = rnn.BasicLSTMCell(num_hidden, forget_bias=1.0)\n",
    "\n",
    "    # Get lstm cell output\n",
    "    try:\n",
    "        outputs, _, _ = rnn.static_bidirectional_rnn(lstm_fw_cell, lstm_bw_cell, x,\n",
    "                                              dtype=tf.float32)\n",
    "    except Exception: # Old TensorFlow version only returns outputs not states\n",
    "        outputs = rnn.static_bidirectional_rnn(lstm_fw_cell, lstm_bw_cell, x,\n",
    "                                        dtype=tf.float32)\n",
    "\n",
    "    # Linear activation, using rnn inner loop last output\n",
    "    return tf.matmul(outputs[-1], weights['out']) + biases['out']"
   ]
  },
  {
   "cell_type": "code",
   "execution_count": 5,
   "metadata": {},
   "outputs": [
    {
     "name": "stdout",
     "output_type": "stream",
     "text": [
      "WARNING:tensorflow:From <ipython-input-5-d6d6107040d4>:6: softmax_cross_entropy_with_logits (from tensorflow.python.ops.nn_ops) is deprecated and will be removed in a future version.\n",
      "Instructions for updating:\n",
      "\n",
      "Future major versions of TensorFlow will allow gradients to flow\n",
      "into the labels input on backprop by default.\n",
      "\n",
      "See tf.nn.softmax_cross_entropy_with_logits_v2.\n",
      "\n"
     ]
    }
   ],
   "source": [
    "logits = BiRNN(X, weights, biases)\n",
    "prediction = tf.nn.softmax(logits)\n",
    "\n",
    "# Define loss and optimizer\n",
    "loss_op = tf.reduce_mean(tf.nn.softmax_cross_entropy_with_logits(\n",
    "    logits=logits, labels=Y))\n",
    "optimizer = tf.train.GradientDescentOptimizer(learning_rate=learning_rate)\n",
    "train_op = optimizer.minimize(loss_op)\n",
    "\n",
    "# Evaluate model (with test logits, for dropout to be disabled)\n",
    "correct_pred = tf.equal(tf.argmax(prediction, 1), tf.argmax(Y, 1))\n",
    "accuracy = tf.reduce_mean(tf.cast(correct_pred, tf.float32))\n",
    "\n",
    "# Initialize the variables (i.e. assign their default value)\n",
    "init = tf.global_variables_initializer()"
   ]
  },
  {
   "cell_type": "code",
   "execution_count": 6,
   "metadata": {},
   "outputs": [
    {
     "name": "stdout",
     "output_type": "stream",
     "text": [
      "Step 1, Minibatch Loss= 2.8305, Training Accuracy= 0.117\n",
      "Step 200, Minibatch Loss= 2.1424, Training Accuracy= 0.242\n",
      "Step 400, Minibatch Loss= 2.0213, Training Accuracy= 0.258\n",
      "Step 600, Minibatch Loss= 1.8793, Training Accuracy= 0.344\n",
      "Step 800, Minibatch Loss= 1.8048, Training Accuracy= 0.359\n",
      "Step 1000, Minibatch Loss= 1.7733, Training Accuracy= 0.406\n",
      "Step 1200, Minibatch Loss= 1.6023, Training Accuracy= 0.484\n",
      "Step 1400, Minibatch Loss= 1.5966, Training Accuracy= 0.508\n",
      "Step 1600, Minibatch Loss= 1.4656, Training Accuracy= 0.555\n",
      "Step 1800, Minibatch Loss= 1.2940, Training Accuracy= 0.625\n",
      "Step 2000, Minibatch Loss= 1.3351, Training Accuracy= 0.570\n",
      "Step 2200, Minibatch Loss= 1.3344, Training Accuracy= 0.539\n",
      "Step 2400, Minibatch Loss= 1.3413, Training Accuracy= 0.578\n",
      "Step 2600, Minibatch Loss= 1.2219, Training Accuracy= 0.633\n",
      "Step 2800, Minibatch Loss= 1.2830, Training Accuracy= 0.555\n",
      "Step 3000, Minibatch Loss= 1.1381, Training Accuracy= 0.656\n",
      "Step 3200, Minibatch Loss= 1.0881, Training Accuracy= 0.664\n",
      "Step 3400, Minibatch Loss= 1.0749, Training Accuracy= 0.664\n",
      "Step 3600, Minibatch Loss= 0.9834, Training Accuracy= 0.734\n",
      "Step 3800, Minibatch Loss= 1.0197, Training Accuracy= 0.727\n",
      "Step 4000, Minibatch Loss= 0.9652, Training Accuracy= 0.664\n",
      "Step 4200, Minibatch Loss= 0.8370, Training Accuracy= 0.758\n",
      "Step 4400, Minibatch Loss= 0.7489, Training Accuracy= 0.781\n",
      "Step 4600, Minibatch Loss= 0.8279, Training Accuracy= 0.727\n",
      "Step 4800, Minibatch Loss= 0.7895, Training Accuracy= 0.781\n",
      "Step 5000, Minibatch Loss= 0.9300, Training Accuracy= 0.688\n",
      "Step 5200, Minibatch Loss= 0.7995, Training Accuracy= 0.727\n",
      "Step 5400, Minibatch Loss= 0.8692, Training Accuracy= 0.758\n",
      "Step 5600, Minibatch Loss= 0.7217, Training Accuracy= 0.766\n",
      "Step 5800, Minibatch Loss= 0.7795, Training Accuracy= 0.766\n",
      "Step 6000, Minibatch Loss= 0.7952, Training Accuracy= 0.797\n",
      "Step 6200, Minibatch Loss= 0.6935, Training Accuracy= 0.812\n",
      "Step 6400, Minibatch Loss= 0.7804, Training Accuracy= 0.727\n",
      "Step 6600, Minibatch Loss= 0.7282, Training Accuracy= 0.742\n",
      "Step 6800, Minibatch Loss= 0.6434, Training Accuracy= 0.781\n",
      "Step 7000, Minibatch Loss= 0.6690, Training Accuracy= 0.789\n",
      "Step 7200, Minibatch Loss= 0.6006, Training Accuracy= 0.789\n",
      "Step 7400, Minibatch Loss= 0.6911, Training Accuracy= 0.781\n",
      "Step 7600, Minibatch Loss= 0.5755, Training Accuracy= 0.812\n",
      "Step 7800, Minibatch Loss= 0.6099, Training Accuracy= 0.797\n",
      "Step 8000, Minibatch Loss= 0.4892, Training Accuracy= 0.867\n",
      "Step 8200, Minibatch Loss= 0.6148, Training Accuracy= 0.812\n",
      "Step 8400, Minibatch Loss= 0.6663, Training Accuracy= 0.766\n",
      "Step 8600, Minibatch Loss= 0.4041, Training Accuracy= 0.867\n",
      "Step 8800, Minibatch Loss= 0.5207, Training Accuracy= 0.859\n",
      "Step 9000, Minibatch Loss= 0.4419, Training Accuracy= 0.867\n",
      "Step 9200, Minibatch Loss= 0.5620, Training Accuracy= 0.828\n",
      "Step 9400, Minibatch Loss= 0.5839, Training Accuracy= 0.789\n",
      "Step 9600, Minibatch Loss= 0.4180, Training Accuracy= 0.898\n",
      "Step 9800, Minibatch Loss= 0.6653, Training Accuracy= 0.781\n",
      "Step 10000, Minibatch Loss= 0.3727, Training Accuracy= 0.875\n",
      "Optimization Finished!\n",
      "Testing Accuracy: 0.8828125\n"
     ]
    }
   ],
   "source": [
    "# Start training\n",
    "with tf.Session() as sess:\n",
    "\n",
    "    # Run the initializer\n",
    "    sess.run(init)\n",
    "\n",
    "    for step in range(1, training_steps+1):\n",
    "        batch_x, batch_y = mnist.train.next_batch(batch_size)\n",
    "        # Reshape data to get 28 seq of 28 elements\n",
    "        batch_x = batch_x.reshape((batch_size, timesteps, num_input))\n",
    "        # Run optimization op (backprop)\n",
    "        sess.run(train_op, feed_dict={X: batch_x, Y: batch_y})\n",
    "        if step % display_step == 0 or step == 1:\n",
    "            # Calculate batch loss and accuracy\n",
    "            loss, acc = sess.run([loss_op, accuracy], feed_dict={X: batch_x,\n",
    "                                                                 Y: batch_y})\n",
    "            print(\"Step \" + str(step) + \", Minibatch Loss= \" + \\\n",
    "                  \"{:.4f}\".format(loss) + \", Training Accuracy= \" + \\\n",
    "                  \"{:.3f}\".format(acc))\n",
    "\n",
    "    print(\"Optimization Finished!\")\n",
    "\n",
    "    # Calculate accuracy for 128 mnist test images\n",
    "    test_len = 128\n",
    "    test_data = mnist.test.images[:test_len].reshape((-1, timesteps, num_input))\n",
    "    test_label = mnist.test.labels[:test_len]\n",
    "    print(\"Testing Accuracy:\", \\\n",
    "        sess.run(accuracy, feed_dict={X: test_data, Y: test_label}))"
   ]
  },
  {
   "cell_type": "code",
   "execution_count": null,
   "metadata": {},
   "outputs": [],
   "source": []
  }
 ],
 "metadata": {
  "kernelspec": {
   "display_name": "Python 3",
   "language": "python",
   "name": "python3"
  },
  "language_info": {
   "codemirror_mode": {
    "name": "ipython",
    "version": 3
   },
   "file_extension": ".py",
   "mimetype": "text/x-python",
   "name": "python",
   "nbconvert_exporter": "python",
   "pygments_lexer": "ipython3",
   "version": "3.5.4"
  }
 },
 "nbformat": 4,
 "nbformat_minor": 2
}
